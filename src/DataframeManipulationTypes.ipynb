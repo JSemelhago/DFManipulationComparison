{
 "cells": [
  {
   "cell_type": "code",
   "execution_count": 11,
   "metadata": {
    "collapsed": true
   },
   "outputs": [],
   "source": [
    "import pandas as pd\n",
    "import numpy as np\n",
    "import time\n",
    "\n",
    "df = pd.read_csv('../data/FertilizersProduct.csv')\n",
    "df.head()\n",
    "\n",
    "final_times = dict()\n",
    "iterations = 50\n",
    "store_time = np.empty(shape=iterations, dtype='float64')\n",
    "time_std = np.empty(shape=6, dtype='float64')\n",
    "\n",
    "#Purpose: to get a dataframe that will create a proportional stacked bar chart by fertilizer type\n",
    "\n",
    "#Use vectorization/Cython/list comp. to get format of dataframe\n",
    "#Use apply/iterrtuples/iterrows for final format"
   ]
  },
  {
   "cell_type": "code",
   "execution_count": 12,
   "outputs": [
    {
     "name": "stdout",
     "output_type": "stream",
     "text": [
      "Vectorization took:  0.12290538787841797  seconds\n"
     ]
    },
    {
     "data": {
      "text/plain": "Item                 Ammonia, anhydrous  Ammonium nitrate (AN)  \\\nArea                                                             \nAfghanistan                        8.56                3244.57   \nAlbania                         1120.54             1001720.59   \nAlgeria                      9993103.16             2117203.14   \nAngola                           493.25              133245.73   \nAntigua and Barbuda               44.96                 369.22   \n\nItem                 Ammonium sulphate  \\\nArea                                     \nAfghanistan                      28.34   \nAlbania                        1953.95   \nAlgeria                      199644.67   \nAngola                       270978.84   \nAntigua and Barbuda              25.51   \n\nItem                 Calcium ammonium nitrate (CAN) and other mixtures with calcium carbonate  \\\nArea                                                                                            \nAfghanistan                                                      20.03                          \nAlbania                                                       16113.21                          \nAlgeria                                                      167570.44                          \nAngola                                                          944.01                          \nAntigua and Barbuda                                               0.05                          \n\nItem                 Diammonium phosphate (DAP)  Fertilizers n.e.c.  \\\nArea                                                                  \nAfghanistan                            67393.32            42464.99   \nAlbania                               532561.01            18351.73   \nAlgeria                                58572.51            92574.98   \nAngola                                  3925.10            81258.44   \nAntigua and Barbuda                       82.76             1856.54   \n\nItem                 Monoammonium phosphate (MAP)  NPK fertilizers  \\\nArea                                                                 \nAfghanistan                               3444.53        105892.68   \nAlbania                                   1245.36        130420.00   \nAlgeria                                 257234.52       2933324.71   \nAngola                                    1915.74        599950.71   \nAntigua and Barbuda                          0.02          4000.68   \n\nItem                 Other NK compounds  Other NP compounds  ...  \\\nArea                                                         ...   \nAfghanistan                         0.0           163301.41  ...   \nAlbania                             0.0            31440.98  ...   \nAlgeria                             0.0           146740.93  ...   \nAngola                              0.0            10150.54  ...   \nAntigua and Barbuda                 0.0              103.18  ...   \n\nItem                 PK compounds  Phosphate rock  \\\nArea                                                \nAfghanistan                  0.26        14176.45   \nAlbania                   4094.71         6281.35   \nAlgeria                  57253.36     26503675.84   \nAngola                   58616.51         1446.86   \nAntigua and Barbuda        329.88            5.03   \n\nItem                 Potassium chloride (muriate of potash) (MOP)  \\\nArea                                                                \nAfghanistan                                                543.43   \nAlbania                                                   2740.46   \nAlgeria                                                 106605.88   \nAngola                                                   97073.91   \nAntigua and Barbuda                                          0.43   \n\nItem                 Potassium nitrate  \\\nArea                                     \nAfghanistan                       0.07   \nAlbania                         418.36   \nAlgeria                       71239.21   \nAngola                         1843.15   \nAntigua and Barbuda               1.20   \n\nItem                 Potassium sulphate (sulphate of potash) (SOP)  \\\nArea                                                                 \nAfghanistan                                                  23.90   \nAlbania                                                    3681.60   \nAlgeria                                                  692694.37   \nAngola                                                     3097.75   \nAntigua and Barbuda                                          25.32   \n\nItem                 Sodium nitrate  Superphosphates above 35%  \\\nArea                                                             \nAfghanistan                   17.85                   13448.58   \nAlbania                     6431.68                  569761.33   \nAlgeria                     3745.73                  869833.80   \nAngola                       633.98                    6881.57   \nAntigua and Barbuda            0.00                       0.01   \n\nItem                 Superphosphates, other         Urea  \\\nArea                                                       \nAfghanistan                            0.00   1616890.03   \nAlbania                            38753.00    967101.33   \nAlgeria                           131825.00  11192522.82   \nAngola                               650.44    148596.06   \nAntigua and Barbuda                    1.00        42.74   \n\nItem                 Urea and ammonium nitrate solutions (UAN)  \nArea                                                            \nAfghanistan                                               5.25  \nAlbania                                                 104.80  \nAlgeria                                             3587527.80  \nAngola                                                 2173.38  \nAntigua and Barbuda                                       0.01  \n\n[5 rows x 23 columns]",
      "text/html": "<div>\n<style scoped>\n    .dataframe tbody tr th:only-of-type {\n        vertical-align: middle;\n    }\n\n    .dataframe tbody tr th {\n        vertical-align: top;\n    }\n\n    .dataframe thead th {\n        text-align: right;\n    }\n</style>\n<table border=\"1\" class=\"dataframe\">\n  <thead>\n    <tr style=\"text-align: right;\">\n      <th>Item</th>\n      <th>Ammonia, anhydrous</th>\n      <th>Ammonium nitrate (AN)</th>\n      <th>Ammonium sulphate</th>\n      <th>Calcium ammonium nitrate (CAN) and other mixtures with calcium carbonate</th>\n      <th>Diammonium phosphate (DAP)</th>\n      <th>Fertilizers n.e.c.</th>\n      <th>Monoammonium phosphate (MAP)</th>\n      <th>NPK fertilizers</th>\n      <th>Other NK compounds</th>\n      <th>Other NP compounds</th>\n      <th>...</th>\n      <th>PK compounds</th>\n      <th>Phosphate rock</th>\n      <th>Potassium chloride (muriate of potash) (MOP)</th>\n      <th>Potassium nitrate</th>\n      <th>Potassium sulphate (sulphate of potash) (SOP)</th>\n      <th>Sodium nitrate</th>\n      <th>Superphosphates above 35%</th>\n      <th>Superphosphates, other</th>\n      <th>Urea</th>\n      <th>Urea and ammonium nitrate solutions (UAN)</th>\n    </tr>\n    <tr>\n      <th>Area</th>\n      <th></th>\n      <th></th>\n      <th></th>\n      <th></th>\n      <th></th>\n      <th></th>\n      <th></th>\n      <th></th>\n      <th></th>\n      <th></th>\n      <th></th>\n      <th></th>\n      <th></th>\n      <th></th>\n      <th></th>\n      <th></th>\n      <th></th>\n      <th></th>\n      <th></th>\n      <th></th>\n      <th></th>\n    </tr>\n  </thead>\n  <tbody>\n    <tr>\n      <th>Afghanistan</th>\n      <td>8.56</td>\n      <td>3244.57</td>\n      <td>28.34</td>\n      <td>20.03</td>\n      <td>67393.32</td>\n      <td>42464.99</td>\n      <td>3444.53</td>\n      <td>105892.68</td>\n      <td>0.0</td>\n      <td>163301.41</td>\n      <td>...</td>\n      <td>0.26</td>\n      <td>14176.45</td>\n      <td>543.43</td>\n      <td>0.07</td>\n      <td>23.90</td>\n      <td>17.85</td>\n      <td>13448.58</td>\n      <td>0.00</td>\n      <td>1616890.03</td>\n      <td>5.25</td>\n    </tr>\n    <tr>\n      <th>Albania</th>\n      <td>1120.54</td>\n      <td>1001720.59</td>\n      <td>1953.95</td>\n      <td>16113.21</td>\n      <td>532561.01</td>\n      <td>18351.73</td>\n      <td>1245.36</td>\n      <td>130420.00</td>\n      <td>0.0</td>\n      <td>31440.98</td>\n      <td>...</td>\n      <td>4094.71</td>\n      <td>6281.35</td>\n      <td>2740.46</td>\n      <td>418.36</td>\n      <td>3681.60</td>\n      <td>6431.68</td>\n      <td>569761.33</td>\n      <td>38753.00</td>\n      <td>967101.33</td>\n      <td>104.80</td>\n    </tr>\n    <tr>\n      <th>Algeria</th>\n      <td>9993103.16</td>\n      <td>2117203.14</td>\n      <td>199644.67</td>\n      <td>167570.44</td>\n      <td>58572.51</td>\n      <td>92574.98</td>\n      <td>257234.52</td>\n      <td>2933324.71</td>\n      <td>0.0</td>\n      <td>146740.93</td>\n      <td>...</td>\n      <td>57253.36</td>\n      <td>26503675.84</td>\n      <td>106605.88</td>\n      <td>71239.21</td>\n      <td>692694.37</td>\n      <td>3745.73</td>\n      <td>869833.80</td>\n      <td>131825.00</td>\n      <td>11192522.82</td>\n      <td>3587527.80</td>\n    </tr>\n    <tr>\n      <th>Angola</th>\n      <td>493.25</td>\n      <td>133245.73</td>\n      <td>270978.84</td>\n      <td>944.01</td>\n      <td>3925.10</td>\n      <td>81258.44</td>\n      <td>1915.74</td>\n      <td>599950.71</td>\n      <td>0.0</td>\n      <td>10150.54</td>\n      <td>...</td>\n      <td>58616.51</td>\n      <td>1446.86</td>\n      <td>97073.91</td>\n      <td>1843.15</td>\n      <td>3097.75</td>\n      <td>633.98</td>\n      <td>6881.57</td>\n      <td>650.44</td>\n      <td>148596.06</td>\n      <td>2173.38</td>\n    </tr>\n    <tr>\n      <th>Antigua and Barbuda</th>\n      <td>44.96</td>\n      <td>369.22</td>\n      <td>25.51</td>\n      <td>0.05</td>\n      <td>82.76</td>\n      <td>1856.54</td>\n      <td>0.02</td>\n      <td>4000.68</td>\n      <td>0.0</td>\n      <td>103.18</td>\n      <td>...</td>\n      <td>329.88</td>\n      <td>5.03</td>\n      <td>0.43</td>\n      <td>1.20</td>\n      <td>25.32</td>\n      <td>0.00</td>\n      <td>0.01</td>\n      <td>1.00</td>\n      <td>42.74</td>\n      <td>0.01</td>\n    </tr>\n  </tbody>\n</table>\n<p>5 rows × 23 columns</p>\n</div>"
     },
     "execution_count": 12,
     "metadata": {},
     "output_type": "execute_result"
    }
   ],
   "source": [
    "#Vectorization - uses built in math ops or converting between wide/long or use groupby/filter/transform...\n",
    "#Does not work well with incomplete datasets (with nan)\n",
    "\n",
    "\n",
    "\n",
    "#Convert long to wide using pivot/stack or wide to long using melt/unstack\n",
    "\n",
    "#Pivot uses index (new index), columns (new columns), values (new values)\n",
    "#Stack uses level (levels in int/str/list), fillna (drop nan of result)\n",
    "#Pivot_table is like pivot but with a built in aggfunc\n",
    "\n",
    "#Melt uses id_vars (identifier column), value_vars (melting column), value_name (name of new melting column), col_name (if already has different levels)\n",
    "\n",
    "\n",
    "for i in range(iterations):\n",
    "    dfpivot = df.copy(deep=False)\n",
    "\n",
    "    start = time.time()\n",
    "\n",
    "    dfpivot = dfpivot[dfpivot['Unit']=='tonnes'].drop(columns=['Unit'])\n",
    "    dfpivot = dfpivot.groupby(['Area','Item'], as_index=False)['Value'].sum()\n",
    "    dfpivot = dfpivot.pivot(index='Area', columns='Item', values='Value')\n",
    "\n",
    "    dfpivot = dfpivot.fillna(0.0)\n",
    "\n",
    "    store_time[i] = time.time()-start\n",
    "\n",
    "print(\"Vectorization took: \",np.mean(store_time),\" seconds\")\n",
    "\n",
    "final_times['Vect'] = np.mean(store_time)\n",
    "time_std[0] = np.std(store_time)\n",
    "\n",
    "dfpivot.head()"
   ],
   "metadata": {
    "collapsed": false,
    "pycharm": {
     "name": "#%%\n"
    }
   }
  },
  {
   "cell_type": "code",
   "execution_count": 13,
   "outputs": [
    {
     "name": "stdout",
     "output_type": "stream",
     "text": [
      "Apply took  0.11955326557159424  seconds\n"
     ]
    },
    {
     "data": {
      "text/plain": "Item                 Ammonia, anhydrous  Ammonium nitrate (AN)  \\\nArea                                                             \nAfghanistan                        8.56                3244.57   \nAlbania                         1120.54             1001720.59   \nAlgeria                      9993103.16             2117203.14   \nAngola                           493.25              133245.73   \nAntigua and Barbuda               44.96                 369.22   \n\nItem                 Ammonium sulphate  \\\nArea                                     \nAfghanistan                      28.34   \nAlbania                        1953.95   \nAlgeria                      199644.67   \nAngola                       270978.84   \nAntigua and Barbuda              25.51   \n\nItem                 Calcium ammonium nitrate (CAN) and other mixtures with calcium carbonate  \\\nArea                                                                                            \nAfghanistan                                                      20.03                          \nAlbania                                                       16113.21                          \nAlgeria                                                      167570.44                          \nAngola                                                          944.01                          \nAntigua and Barbuda                                               0.05                          \n\nItem                 Diammonium phosphate (DAP)  Fertilizers n.e.c.  \\\nArea                                                                  \nAfghanistan                            67393.32            42464.99   \nAlbania                               532561.01            18351.73   \nAlgeria                                58572.51            92574.98   \nAngola                                  3925.10            81258.44   \nAntigua and Barbuda                       82.76             1856.54   \n\nItem                 Monoammonium phosphate (MAP)  NPK fertilizers  \\\nArea                                                                 \nAfghanistan                               3444.53        105892.68   \nAlbania                                   1245.36        130420.00   \nAlgeria                                 257234.52       2933324.71   \nAngola                                    1915.74        599950.71   \nAntigua and Barbuda                          0.02          4000.68   \n\nItem                 Other NK compounds  Other NP compounds  ...  \\\nArea                                                         ...   \nAfghanistan                         0.0           163301.41  ...   \nAlbania                             0.0            31440.98  ...   \nAlgeria                             0.0           146740.93  ...   \nAngola                              0.0            10150.54  ...   \nAntigua and Barbuda                 0.0              103.18  ...   \n\nItem                 PK compounds  Phosphate rock  \\\nArea                                                \nAfghanistan                  0.26        14176.45   \nAlbania                   4094.71         6281.35   \nAlgeria                  57253.36     26503675.84   \nAngola                   58616.51         1446.86   \nAntigua and Barbuda        329.88            5.03   \n\nItem                 Potassium chloride (muriate of potash) (MOP)  \\\nArea                                                                \nAfghanistan                                                543.43   \nAlbania                                                   2740.46   \nAlgeria                                                 106605.88   \nAngola                                                   97073.91   \nAntigua and Barbuda                                          0.43   \n\nItem                 Potassium nitrate  \\\nArea                                     \nAfghanistan                       0.07   \nAlbania                         418.36   \nAlgeria                       71239.21   \nAngola                         1843.15   \nAntigua and Barbuda               1.20   \n\nItem                 Potassium sulphate (sulphate of potash) (SOP)  \\\nArea                                                                 \nAfghanistan                                                  23.90   \nAlbania                                                    3681.60   \nAlgeria                                                  692694.37   \nAngola                                                     3097.75   \nAntigua and Barbuda                                          25.32   \n\nItem                 Sodium nitrate  Superphosphates above 35%  \\\nArea                                                             \nAfghanistan                   17.85                   13448.58   \nAlbania                     6431.68                  569761.33   \nAlgeria                     3745.73                  869833.80   \nAngola                       633.98                    6881.57   \nAntigua and Barbuda            0.00                       0.01   \n\nItem                 Superphosphates, other         Urea  \\\nArea                                                       \nAfghanistan                            0.00   1616890.03   \nAlbania                            38753.00    967101.33   \nAlgeria                           131825.00  11192522.82   \nAngola                               650.44    148596.06   \nAntigua and Barbuda                    1.00        42.74   \n\nItem                 Urea and ammonium nitrate solutions (UAN)  \nArea                                                            \nAfghanistan                                               5.25  \nAlbania                                                 104.80  \nAlgeria                                             3587527.80  \nAngola                                                 2173.38  \nAntigua and Barbuda                                       0.01  \n\n[5 rows x 23 columns]",
      "text/html": "<div>\n<style scoped>\n    .dataframe tbody tr th:only-of-type {\n        vertical-align: middle;\n    }\n\n    .dataframe tbody tr th {\n        vertical-align: top;\n    }\n\n    .dataframe thead th {\n        text-align: right;\n    }\n</style>\n<table border=\"1\" class=\"dataframe\">\n  <thead>\n    <tr style=\"text-align: right;\">\n      <th>Item</th>\n      <th>Ammonia, anhydrous</th>\n      <th>Ammonium nitrate (AN)</th>\n      <th>Ammonium sulphate</th>\n      <th>Calcium ammonium nitrate (CAN) and other mixtures with calcium carbonate</th>\n      <th>Diammonium phosphate (DAP)</th>\n      <th>Fertilizers n.e.c.</th>\n      <th>Monoammonium phosphate (MAP)</th>\n      <th>NPK fertilizers</th>\n      <th>Other NK compounds</th>\n      <th>Other NP compounds</th>\n      <th>...</th>\n      <th>PK compounds</th>\n      <th>Phosphate rock</th>\n      <th>Potassium chloride (muriate of potash) (MOP)</th>\n      <th>Potassium nitrate</th>\n      <th>Potassium sulphate (sulphate of potash) (SOP)</th>\n      <th>Sodium nitrate</th>\n      <th>Superphosphates above 35%</th>\n      <th>Superphosphates, other</th>\n      <th>Urea</th>\n      <th>Urea and ammonium nitrate solutions (UAN)</th>\n    </tr>\n    <tr>\n      <th>Area</th>\n      <th></th>\n      <th></th>\n      <th></th>\n      <th></th>\n      <th></th>\n      <th></th>\n      <th></th>\n      <th></th>\n      <th></th>\n      <th></th>\n      <th></th>\n      <th></th>\n      <th></th>\n      <th></th>\n      <th></th>\n      <th></th>\n      <th></th>\n      <th></th>\n      <th></th>\n      <th></th>\n      <th></th>\n    </tr>\n  </thead>\n  <tbody>\n    <tr>\n      <th>Afghanistan</th>\n      <td>8.56</td>\n      <td>3244.57</td>\n      <td>28.34</td>\n      <td>20.03</td>\n      <td>67393.32</td>\n      <td>42464.99</td>\n      <td>3444.53</td>\n      <td>105892.68</td>\n      <td>0.0</td>\n      <td>163301.41</td>\n      <td>...</td>\n      <td>0.26</td>\n      <td>14176.45</td>\n      <td>543.43</td>\n      <td>0.07</td>\n      <td>23.90</td>\n      <td>17.85</td>\n      <td>13448.58</td>\n      <td>0.00</td>\n      <td>1616890.03</td>\n      <td>5.25</td>\n    </tr>\n    <tr>\n      <th>Albania</th>\n      <td>1120.54</td>\n      <td>1001720.59</td>\n      <td>1953.95</td>\n      <td>16113.21</td>\n      <td>532561.01</td>\n      <td>18351.73</td>\n      <td>1245.36</td>\n      <td>130420.00</td>\n      <td>0.0</td>\n      <td>31440.98</td>\n      <td>...</td>\n      <td>4094.71</td>\n      <td>6281.35</td>\n      <td>2740.46</td>\n      <td>418.36</td>\n      <td>3681.60</td>\n      <td>6431.68</td>\n      <td>569761.33</td>\n      <td>38753.00</td>\n      <td>967101.33</td>\n      <td>104.80</td>\n    </tr>\n    <tr>\n      <th>Algeria</th>\n      <td>9993103.16</td>\n      <td>2117203.14</td>\n      <td>199644.67</td>\n      <td>167570.44</td>\n      <td>58572.51</td>\n      <td>92574.98</td>\n      <td>257234.52</td>\n      <td>2933324.71</td>\n      <td>0.0</td>\n      <td>146740.93</td>\n      <td>...</td>\n      <td>57253.36</td>\n      <td>26503675.84</td>\n      <td>106605.88</td>\n      <td>71239.21</td>\n      <td>692694.37</td>\n      <td>3745.73</td>\n      <td>869833.80</td>\n      <td>131825.00</td>\n      <td>11192522.82</td>\n      <td>3587527.80</td>\n    </tr>\n    <tr>\n      <th>Angola</th>\n      <td>493.25</td>\n      <td>133245.73</td>\n      <td>270978.84</td>\n      <td>944.01</td>\n      <td>3925.10</td>\n      <td>81258.44</td>\n      <td>1915.74</td>\n      <td>599950.71</td>\n      <td>0.0</td>\n      <td>10150.54</td>\n      <td>...</td>\n      <td>58616.51</td>\n      <td>1446.86</td>\n      <td>97073.91</td>\n      <td>1843.15</td>\n      <td>3097.75</td>\n      <td>633.98</td>\n      <td>6881.57</td>\n      <td>650.44</td>\n      <td>148596.06</td>\n      <td>2173.38</td>\n    </tr>\n    <tr>\n      <th>Antigua and Barbuda</th>\n      <td>44.96</td>\n      <td>369.22</td>\n      <td>25.51</td>\n      <td>0.05</td>\n      <td>82.76</td>\n      <td>1856.54</td>\n      <td>0.02</td>\n      <td>4000.68</td>\n      <td>0.0</td>\n      <td>103.18</td>\n      <td>...</td>\n      <td>329.88</td>\n      <td>5.03</td>\n      <td>0.43</td>\n      <td>1.20</td>\n      <td>25.32</td>\n      <td>0.00</td>\n      <td>0.01</td>\n      <td>1.00</td>\n      <td>42.74</td>\n      <td>0.01</td>\n    </tr>\n  </tbody>\n</table>\n<p>5 rows × 23 columns</p>\n</div>"
     },
     "execution_count": 13,
     "metadata": {},
     "output_type": "execute_result"
    }
   ],
   "source": [
    "#Apply - works on column/row\n",
    "#Applymap - works elementwise across many rows/columns\n",
    "#Map - works elementwise by series only\n",
    "\n",
    "#Apply\n",
    "\n",
    "\n",
    "for i in range(iterations):\n",
    "    dfapply = df.copy(deep=False)\n",
    "\n",
    "    start = time.time()\n",
    "\n",
    "\n",
    "    dfapply = dfapply[['Area','Item','Unit','Value']]\n",
    "    dfapply = dfapply[dfapply['Unit'].apply(lambda x: x=='tonnes')]\n",
    "    dfapply.drop(columns=['Unit'], inplace=True)\n",
    "    dfapply = dfapply.groupby(['Area','Item'], as_index=False)['Value'].sum()\n",
    "    dfapply = dfapply.pivot(index='Area', columns='Item', values='Value')\n",
    "    dfapply = dfapply.fillna(0.0)\n",
    "\n",
    "    store_time[i] = time.time()-start\n",
    "\n",
    "\n",
    "print('Apply took ', np.mean(store_time),' seconds')\n",
    "\n",
    "final_times['Apply'] = np.mean(store_time)\n",
    "time_std[1] = np.std(store_time)\n",
    "\n",
    "dfapply.head()\n"
   ],
   "metadata": {
    "collapsed": false,
    "pycharm": {
     "name": "#%%\n"
    }
   }
  },
  {
   "cell_type": "code",
   "execution_count": 14,
   "outputs": [
    {
     "name": "stdout",
     "output_type": "stream",
     "text": [
      "Cython took:  0.30251866817474365  seconds\n"
     ]
    },
    {
     "data": {
      "text/plain": "                     Ammonia, anhydrous  Ammonium nitrate (AN)  \\\nAfghanistan                        8.56                3244.57   \nAlbania                         1120.54             1001720.59   \nAlgeria                      9993103.16             2117203.14   \nAngola                           493.25              133245.73   \nAntigua and Barbuda               44.96                 369.22   \n\n                     Ammonium sulphate  \\\nAfghanistan                      28.34   \nAlbania                        1953.95   \nAlgeria                      199644.67   \nAngola                       270978.84   \nAntigua and Barbuda              25.51   \n\n                     Calcium ammonium nitrate (CAN) and other mixtures with calcium carbonate  \\\nAfghanistan                                                      20.03                          \nAlbania                                                       16113.21                          \nAlgeria                                                      167570.44                          \nAngola                                                          944.01                          \nAntigua and Barbuda                                               0.05                          \n\n                     Diammonium phosphate (DAP)  Fertilizers n.e.c.  \\\nAfghanistan                            67393.32            42464.99   \nAlbania                               532561.01            18351.73   \nAlgeria                                58572.51            92574.98   \nAngola                                  3925.10            81258.44   \nAntigua and Barbuda                       82.76             1856.54   \n\n                     Monoammonium phosphate (MAP)  NPK fertilizers  \\\nAfghanistan                               3444.53        105892.68   \nAlbania                                   1245.36        130420.00   \nAlgeria                                 257234.52       2933324.71   \nAngola                                    1915.74        599950.71   \nAntigua and Barbuda                          0.02          4000.68   \n\n                     Other NK compounds  Other NP compounds  ...  \\\nAfghanistan                         0.0           163301.41  ...   \nAlbania                             0.0            31440.98  ...   \nAlgeria                             0.0           146740.93  ...   \nAngola                              0.0            10150.54  ...   \nAntigua and Barbuda                 0.0              103.18  ...   \n\n                     PK compounds  Phosphate rock  \\\nAfghanistan                  0.26        14176.45   \nAlbania                   4094.71         6281.35   \nAlgeria                  57253.36     26503675.84   \nAngola                   58616.51         1446.86   \nAntigua and Barbuda        329.88            5.03   \n\n                     Potassium chloride (muriate of potash) (MOP)  \\\nAfghanistan                                                543.43   \nAlbania                                                   2740.46   \nAlgeria                                                 106605.88   \nAngola                                                   97073.91   \nAntigua and Barbuda                                          0.43   \n\n                     Potassium nitrate  \\\nAfghanistan                       0.07   \nAlbania                         418.36   \nAlgeria                       71239.21   \nAngola                         1843.15   \nAntigua and Barbuda               1.20   \n\n                     Potassium sulphate (sulphate of potash) (SOP)  \\\nAfghanistan                                                  23.90   \nAlbania                                                    3681.60   \nAlgeria                                                  692694.37   \nAngola                                                     3097.75   \nAntigua and Barbuda                                          25.32   \n\n                     Sodium nitrate  Superphosphates above 35%  \\\nAfghanistan                   17.85                   13448.58   \nAlbania                     6431.68                  569761.33   \nAlgeria                     3745.73                  869833.80   \nAngola                       633.98                    6881.57   \nAntigua and Barbuda            0.00                       0.01   \n\n                     Superphosphates, other         Urea  \\\nAfghanistan                            0.00   1616890.03   \nAlbania                            38753.00    967101.33   \nAlgeria                           131825.00  11192522.82   \nAngola                               650.44    148596.06   \nAntigua and Barbuda                    1.00        42.74   \n\n                     Urea and ammonium nitrate solutions (UAN)  \nAfghanistan                                               5.25  \nAlbania                                                 104.80  \nAlgeria                                             3587527.80  \nAngola                                                 2173.38  \nAntigua and Barbuda                                       0.01  \n\n[5 rows x 23 columns]",
      "text/html": "<div>\n<style scoped>\n    .dataframe tbody tr th:only-of-type {\n        vertical-align: middle;\n    }\n\n    .dataframe tbody tr th {\n        vertical-align: top;\n    }\n\n    .dataframe thead th {\n        text-align: right;\n    }\n</style>\n<table border=\"1\" class=\"dataframe\">\n  <thead>\n    <tr style=\"text-align: right;\">\n      <th></th>\n      <th>Ammonia, anhydrous</th>\n      <th>Ammonium nitrate (AN)</th>\n      <th>Ammonium sulphate</th>\n      <th>Calcium ammonium nitrate (CAN) and other mixtures with calcium carbonate</th>\n      <th>Diammonium phosphate (DAP)</th>\n      <th>Fertilizers n.e.c.</th>\n      <th>Monoammonium phosphate (MAP)</th>\n      <th>NPK fertilizers</th>\n      <th>Other NK compounds</th>\n      <th>Other NP compounds</th>\n      <th>...</th>\n      <th>PK compounds</th>\n      <th>Phosphate rock</th>\n      <th>Potassium chloride (muriate of potash) (MOP)</th>\n      <th>Potassium nitrate</th>\n      <th>Potassium sulphate (sulphate of potash) (SOP)</th>\n      <th>Sodium nitrate</th>\n      <th>Superphosphates above 35%</th>\n      <th>Superphosphates, other</th>\n      <th>Urea</th>\n      <th>Urea and ammonium nitrate solutions (UAN)</th>\n    </tr>\n  </thead>\n  <tbody>\n    <tr>\n      <th>Afghanistan</th>\n      <td>8.56</td>\n      <td>3244.57</td>\n      <td>28.34</td>\n      <td>20.03</td>\n      <td>67393.32</td>\n      <td>42464.99</td>\n      <td>3444.53</td>\n      <td>105892.68</td>\n      <td>0.0</td>\n      <td>163301.41</td>\n      <td>...</td>\n      <td>0.26</td>\n      <td>14176.45</td>\n      <td>543.43</td>\n      <td>0.07</td>\n      <td>23.90</td>\n      <td>17.85</td>\n      <td>13448.58</td>\n      <td>0.00</td>\n      <td>1616890.03</td>\n      <td>5.25</td>\n    </tr>\n    <tr>\n      <th>Albania</th>\n      <td>1120.54</td>\n      <td>1001720.59</td>\n      <td>1953.95</td>\n      <td>16113.21</td>\n      <td>532561.01</td>\n      <td>18351.73</td>\n      <td>1245.36</td>\n      <td>130420.00</td>\n      <td>0.0</td>\n      <td>31440.98</td>\n      <td>...</td>\n      <td>4094.71</td>\n      <td>6281.35</td>\n      <td>2740.46</td>\n      <td>418.36</td>\n      <td>3681.60</td>\n      <td>6431.68</td>\n      <td>569761.33</td>\n      <td>38753.00</td>\n      <td>967101.33</td>\n      <td>104.80</td>\n    </tr>\n    <tr>\n      <th>Algeria</th>\n      <td>9993103.16</td>\n      <td>2117203.14</td>\n      <td>199644.67</td>\n      <td>167570.44</td>\n      <td>58572.51</td>\n      <td>92574.98</td>\n      <td>257234.52</td>\n      <td>2933324.71</td>\n      <td>0.0</td>\n      <td>146740.93</td>\n      <td>...</td>\n      <td>57253.36</td>\n      <td>26503675.84</td>\n      <td>106605.88</td>\n      <td>71239.21</td>\n      <td>692694.37</td>\n      <td>3745.73</td>\n      <td>869833.80</td>\n      <td>131825.00</td>\n      <td>11192522.82</td>\n      <td>3587527.80</td>\n    </tr>\n    <tr>\n      <th>Angola</th>\n      <td>493.25</td>\n      <td>133245.73</td>\n      <td>270978.84</td>\n      <td>944.01</td>\n      <td>3925.10</td>\n      <td>81258.44</td>\n      <td>1915.74</td>\n      <td>599950.71</td>\n      <td>0.0</td>\n      <td>10150.54</td>\n      <td>...</td>\n      <td>58616.51</td>\n      <td>1446.86</td>\n      <td>97073.91</td>\n      <td>1843.15</td>\n      <td>3097.75</td>\n      <td>633.98</td>\n      <td>6881.57</td>\n      <td>650.44</td>\n      <td>148596.06</td>\n      <td>2173.38</td>\n    </tr>\n    <tr>\n      <th>Antigua and Barbuda</th>\n      <td>44.96</td>\n      <td>369.22</td>\n      <td>25.51</td>\n      <td>0.05</td>\n      <td>82.76</td>\n      <td>1856.54</td>\n      <td>0.02</td>\n      <td>4000.68</td>\n      <td>0.0</td>\n      <td>103.18</td>\n      <td>...</td>\n      <td>329.88</td>\n      <td>5.03</td>\n      <td>0.43</td>\n      <td>1.20</td>\n      <td>25.32</td>\n      <td>0.00</td>\n      <td>0.01</td>\n      <td>1.00</td>\n      <td>42.74</td>\n      <td>0.01</td>\n    </tr>\n  </tbody>\n</table>\n<p>5 rows × 23 columns</p>\n</div>"
     },
     "execution_count": 14,
     "metadata": {},
     "output_type": "execute_result"
    }
   ],
   "source": [
    "#Import pyx file and call its methods using pyxfile.()\n",
    "#Create/modify setup.py and build in terminal using \"python setup.py build_ext --inplace\"\n",
    "import fertilizerprocessor\n",
    "\n",
    "#Cython - uses C framework (efficient) to implement Python code\n",
    "\n",
    "for i in range(iterations):\n",
    "    dfcython = pd.DataFrame(index=np.unique(df['Area']),columns=np.unique(df['Item']))\n",
    "\n",
    "    start = time.time()\n",
    "\n",
    "    dataframedict = fertilizerprocessor.fertilizerCount(df['Area'].tolist(), df['Item'].tolist(), df['Unit'].tolist(), df['Value'].tolist())\n",
    "\n",
    "\n",
    "    for k,v in dataframedict.items():\n",
    "        items = k.split('_')\n",
    "        dfcython.at[items[0],items[1]] = v\n",
    "\n",
    "    dfcython = dfcython.fillna(0.0)\n",
    "\n",
    "    store_time[i] = time.time()-start\n",
    "\n",
    "\n",
    "print('Cython took: ',np.mean(store_time),' seconds')\n",
    "\n",
    "final_times['Cython'] = np.mean(store_time)\n",
    "time_std[2] = np.std(store_time)\n",
    "\n",
    "dfcython.head()\n"
   ],
   "metadata": {
    "collapsed": false,
    "pycharm": {
     "name": "#%%\n"
    }
   }
  },
  {
   "cell_type": "code",
   "execution_count": 15,
   "outputs": [
    {
     "name": "stdout",
     "output_type": "stream",
     "text": [
      "List comprehension took  0.5545633935928345  seconds\n"
     ]
    },
    {
     "data": {
      "text/plain": "                     Ammonia, anhydrous  Ammonium nitrate (AN)  \\\nAfghanistan                        8.56                3244.57   \nAlbania                         1120.54             1001720.59   \nAlgeria                      9993103.16             2117203.14   \nAngola                           493.25              133245.73   \nAntigua and Barbuda               44.96                 369.22   \n\n                     Ammonium sulphate  \\\nAfghanistan                      28.34   \nAlbania                        1953.95   \nAlgeria                      199644.67   \nAngola                       270978.84   \nAntigua and Barbuda              25.51   \n\n                     Calcium ammonium nitrate (CAN) and other mixtures with calcium carbonate  \\\nAfghanistan                                                      20.03                          \nAlbania                                                       16113.21                          \nAlgeria                                                      167570.44                          \nAngola                                                          944.01                          \nAntigua and Barbuda                                               0.05                          \n\n                     Diammonium phosphate (DAP)  Fertilizers n.e.c.  \\\nAfghanistan                            67393.32            42464.99   \nAlbania                               532561.01            18351.73   \nAlgeria                                58572.51            92574.98   \nAngola                                  3925.10            81258.44   \nAntigua and Barbuda                       82.76             1856.54   \n\n                     Monoammonium phosphate (MAP)  NPK fertilizers  \\\nAfghanistan                               3444.53        105892.68   \nAlbania                                   1245.36        130420.00   \nAlgeria                                 257234.52       2933324.71   \nAngola                                    1915.74        599950.71   \nAntigua and Barbuda                          0.02          4000.68   \n\n                     Other NK compounds  Other NP compounds  ...  \\\nAfghanistan                         0.0           163301.41  ...   \nAlbania                             0.0            31440.98  ...   \nAlgeria                             0.0           146740.93  ...   \nAngola                              0.0            10150.54  ...   \nAntigua and Barbuda                 0.0              103.18  ...   \n\n                     PK compounds  Phosphate rock  \\\nAfghanistan                  0.26        14176.45   \nAlbania                   4094.71         6281.35   \nAlgeria                  57253.36     26503675.84   \nAngola                   58616.51         1446.86   \nAntigua and Barbuda        329.88            5.03   \n\n                     Potassium chloride (muriate of potash) (MOP)  \\\nAfghanistan                                                543.43   \nAlbania                                                   2740.46   \nAlgeria                                                 106605.88   \nAngola                                                   97073.91   \nAntigua and Barbuda                                          0.43   \n\n                     Potassium nitrate  \\\nAfghanistan                       0.07   \nAlbania                         418.36   \nAlgeria                       71239.21   \nAngola                         1843.15   \nAntigua and Barbuda               1.20   \n\n                     Potassium sulphate (sulphate of potash) (SOP)  \\\nAfghanistan                                                  23.90   \nAlbania                                                    3681.60   \nAlgeria                                                  692694.37   \nAngola                                                     3097.75   \nAntigua and Barbuda                                          25.32   \n\n                     Sodium nitrate  Superphosphates above 35%  \\\nAfghanistan                   17.85                   13448.58   \nAlbania                     6431.68                  569761.33   \nAlgeria                     3745.73                  869833.80   \nAngola                       633.98                    6881.57   \nAntigua and Barbuda            0.00                       0.01   \n\n                     Superphosphates, other         Urea  \\\nAfghanistan                            0.00   1616890.03   \nAlbania                            38753.00    967101.33   \nAlgeria                           131825.00  11192522.82   \nAngola                               650.44    148596.06   \nAntigua and Barbuda                    1.00        42.74   \n\n                     Urea and ammonium nitrate solutions (UAN)  \nAfghanistan                                               5.25  \nAlbania                                                 104.80  \nAlgeria                                             3587527.80  \nAngola                                                 2173.38  \nAntigua and Barbuda                                       0.01  \n\n[5 rows x 23 columns]",
      "text/html": "<div>\n<style scoped>\n    .dataframe tbody tr th:only-of-type {\n        vertical-align: middle;\n    }\n\n    .dataframe tbody tr th {\n        vertical-align: top;\n    }\n\n    .dataframe thead th {\n        text-align: right;\n    }\n</style>\n<table border=\"1\" class=\"dataframe\">\n  <thead>\n    <tr style=\"text-align: right;\">\n      <th></th>\n      <th>Ammonia, anhydrous</th>\n      <th>Ammonium nitrate (AN)</th>\n      <th>Ammonium sulphate</th>\n      <th>Calcium ammonium nitrate (CAN) and other mixtures with calcium carbonate</th>\n      <th>Diammonium phosphate (DAP)</th>\n      <th>Fertilizers n.e.c.</th>\n      <th>Monoammonium phosphate (MAP)</th>\n      <th>NPK fertilizers</th>\n      <th>Other NK compounds</th>\n      <th>Other NP compounds</th>\n      <th>...</th>\n      <th>PK compounds</th>\n      <th>Phosphate rock</th>\n      <th>Potassium chloride (muriate of potash) (MOP)</th>\n      <th>Potassium nitrate</th>\n      <th>Potassium sulphate (sulphate of potash) (SOP)</th>\n      <th>Sodium nitrate</th>\n      <th>Superphosphates above 35%</th>\n      <th>Superphosphates, other</th>\n      <th>Urea</th>\n      <th>Urea and ammonium nitrate solutions (UAN)</th>\n    </tr>\n  </thead>\n  <tbody>\n    <tr>\n      <th>Afghanistan</th>\n      <td>8.56</td>\n      <td>3244.57</td>\n      <td>28.34</td>\n      <td>20.03</td>\n      <td>67393.32</td>\n      <td>42464.99</td>\n      <td>3444.53</td>\n      <td>105892.68</td>\n      <td>0.0</td>\n      <td>163301.41</td>\n      <td>...</td>\n      <td>0.26</td>\n      <td>14176.45</td>\n      <td>543.43</td>\n      <td>0.07</td>\n      <td>23.90</td>\n      <td>17.85</td>\n      <td>13448.58</td>\n      <td>0.00</td>\n      <td>1616890.03</td>\n      <td>5.25</td>\n    </tr>\n    <tr>\n      <th>Albania</th>\n      <td>1120.54</td>\n      <td>1001720.59</td>\n      <td>1953.95</td>\n      <td>16113.21</td>\n      <td>532561.01</td>\n      <td>18351.73</td>\n      <td>1245.36</td>\n      <td>130420.00</td>\n      <td>0.0</td>\n      <td>31440.98</td>\n      <td>...</td>\n      <td>4094.71</td>\n      <td>6281.35</td>\n      <td>2740.46</td>\n      <td>418.36</td>\n      <td>3681.60</td>\n      <td>6431.68</td>\n      <td>569761.33</td>\n      <td>38753.00</td>\n      <td>967101.33</td>\n      <td>104.80</td>\n    </tr>\n    <tr>\n      <th>Algeria</th>\n      <td>9993103.16</td>\n      <td>2117203.14</td>\n      <td>199644.67</td>\n      <td>167570.44</td>\n      <td>58572.51</td>\n      <td>92574.98</td>\n      <td>257234.52</td>\n      <td>2933324.71</td>\n      <td>0.0</td>\n      <td>146740.93</td>\n      <td>...</td>\n      <td>57253.36</td>\n      <td>26503675.84</td>\n      <td>106605.88</td>\n      <td>71239.21</td>\n      <td>692694.37</td>\n      <td>3745.73</td>\n      <td>869833.80</td>\n      <td>131825.00</td>\n      <td>11192522.82</td>\n      <td>3587527.80</td>\n    </tr>\n    <tr>\n      <th>Angola</th>\n      <td>493.25</td>\n      <td>133245.73</td>\n      <td>270978.84</td>\n      <td>944.01</td>\n      <td>3925.10</td>\n      <td>81258.44</td>\n      <td>1915.74</td>\n      <td>599950.71</td>\n      <td>0.0</td>\n      <td>10150.54</td>\n      <td>...</td>\n      <td>58616.51</td>\n      <td>1446.86</td>\n      <td>97073.91</td>\n      <td>1843.15</td>\n      <td>3097.75</td>\n      <td>633.98</td>\n      <td>6881.57</td>\n      <td>650.44</td>\n      <td>148596.06</td>\n      <td>2173.38</td>\n    </tr>\n    <tr>\n      <th>Antigua and Barbuda</th>\n      <td>44.96</td>\n      <td>369.22</td>\n      <td>25.51</td>\n      <td>0.05</td>\n      <td>82.76</td>\n      <td>1856.54</td>\n      <td>0.02</td>\n      <td>4000.68</td>\n      <td>0.0</td>\n      <td>103.18</td>\n      <td>...</td>\n      <td>329.88</td>\n      <td>5.03</td>\n      <td>0.43</td>\n      <td>1.20</td>\n      <td>25.32</td>\n      <td>0.00</td>\n      <td>0.01</td>\n      <td>1.00</td>\n      <td>42.74</td>\n      <td>0.01</td>\n    </tr>\n  </tbody>\n</table>\n<p>5 rows × 23 columns</p>\n</div>"
     },
     "execution_count": 15,
     "metadata": {},
     "output_type": "execute_result"
    }
   ],
   "source": [
    "#List comprehension - create/manipulate lists in a single line modified for loop\n",
    "\n",
    "#list = [expression(i) for i in list_object if filter(i)]\n",
    "\n",
    "for i in range(iterations):\n",
    "    dflist = pd.DataFrame(index=np.unique(df['Area']),columns=np.unique(df['Item']))\n",
    "\n",
    "    start = time.time()\n",
    "\n",
    "\n",
    "    total = dict()\n",
    "    combined = [list(row) for row in zip(df['Area'],df['Item'],df['Unit'],df['Value']) if row[2]=='tonnes']\n",
    "\n",
    "    for item in combined:\n",
    "        item = '_'.join(item[0:3])\n",
    "        total[item] = 0\n",
    "\n",
    "    for item in combined:\n",
    "        key = '_'.join(item[0:3])\n",
    "        if isinstance(item[3], float):\n",
    "            total[key] += item[3]\n",
    "\n",
    "    for k,v in total.items():\n",
    "        items = k.split('_')\n",
    "        dflist.at[items[0],items[1]] = v\n",
    "\n",
    "    dflist = dflist.fillna(0.0)\n",
    "\n",
    "    store_time[i] = time.time()-start\n",
    "\n",
    "\n",
    "print('List comprehension took ',np.mean(store_time),' seconds')\n",
    "\n",
    "final_times['List'] = np.mean(store_time)\n",
    "time_std[3] = np.std(store_time)\n",
    "\n",
    "dflist.head()\n"
   ],
   "metadata": {
    "collapsed": false,
    "pycharm": {
     "name": "#%%\n"
    }
   }
  },
  {
   "cell_type": "code",
   "execution_count": 16,
   "outputs": [
    {
     "name": "stdout",
     "output_type": "stream",
     "text": [
      "Itertuples took  3.7665228271484374  seconds\n"
     ]
    },
    {
     "data": {
      "text/plain": "                     Ammonia, anhydrous  Ammonium nitrate (AN)  \\\nAfghanistan                        8.56                3244.57   \nAlbania                         1120.54             1001720.59   \nAlgeria                      9993103.16             2117203.14   \nAngola                           493.25              133245.73   \nAntigua and Barbuda               44.96                 369.22   \n\n                     Ammonium sulphate  \\\nAfghanistan                      28.34   \nAlbania                        1953.95   \nAlgeria                      199644.67   \nAngola                       270978.84   \nAntigua and Barbuda              25.51   \n\n                     Calcium ammonium nitrate (CAN) and other mixtures with calcium carbonate  \\\nAfghanistan                                                      20.03                          \nAlbania                                                       16113.21                          \nAlgeria                                                      167570.44                          \nAngola                                                          944.01                          \nAntigua and Barbuda                                               0.05                          \n\n                     Diammonium phosphate (DAP)  Fertilizers n.e.c.  \\\nAfghanistan                            67393.32            42464.99   \nAlbania                               532561.01            18351.73   \nAlgeria                                58572.51            92574.98   \nAngola                                  3925.10            81258.44   \nAntigua and Barbuda                       82.76             1856.54   \n\n                     Monoammonium phosphate (MAP)  NPK fertilizers  \\\nAfghanistan                               3444.53        105892.68   \nAlbania                                   1245.36        130420.00   \nAlgeria                                 257234.52       2933324.71   \nAngola                                    1915.74        599950.71   \nAntigua and Barbuda                          0.02          4000.68   \n\n                     Other NK compounds  Other NP compounds  ...  \\\nAfghanistan                         0.0           163301.41  ...   \nAlbania                             0.0            31440.98  ...   \nAlgeria                             0.0           146740.93  ...   \nAngola                              0.0            10150.54  ...   \nAntigua and Barbuda                 0.0              103.18  ...   \n\n                     PK compounds  Phosphate rock  \\\nAfghanistan                  0.26        14176.45   \nAlbania                   4094.71         6281.35   \nAlgeria                  57253.36     26503675.84   \nAngola                   58616.51         1446.86   \nAntigua and Barbuda        329.88            5.03   \n\n                     Potassium chloride (muriate of potash) (MOP)  \\\nAfghanistan                                                543.43   \nAlbania                                                   2740.46   \nAlgeria                                                 106605.88   \nAngola                                                   97073.91   \nAntigua and Barbuda                                          0.43   \n\n                     Potassium nitrate  \\\nAfghanistan                       0.07   \nAlbania                         418.36   \nAlgeria                       71239.21   \nAngola                         1843.15   \nAntigua and Barbuda               1.20   \n\n                     Potassium sulphate (sulphate of potash) (SOP)  \\\nAfghanistan                                                  23.90   \nAlbania                                                    3681.60   \nAlgeria                                                  692694.37   \nAngola                                                     3097.75   \nAntigua and Barbuda                                          25.32   \n\n                     Sodium nitrate  Superphosphates above 35%  \\\nAfghanistan                   17.85                   13448.58   \nAlbania                     6431.68                  569761.33   \nAlgeria                     3745.73                  869833.80   \nAngola                       633.98                    6881.57   \nAntigua and Barbuda            0.00                       0.01   \n\n                     Superphosphates, other         Urea  \\\nAfghanistan                            0.00   1616890.03   \nAlbania                            38753.00    967101.33   \nAlgeria                           131825.00  11192522.82   \nAngola                               650.44    148596.06   \nAntigua and Barbuda                    1.00        42.74   \n\n                     Urea and ammonium nitrate solutions (UAN)  \nAfghanistan                                               5.25  \nAlbania                                                 104.80  \nAlgeria                                             3587527.80  \nAngola                                                 2173.38  \nAntigua and Barbuda                                       0.01  \n\n[5 rows x 23 columns]",
      "text/html": "<div>\n<style scoped>\n    .dataframe tbody tr th:only-of-type {\n        vertical-align: middle;\n    }\n\n    .dataframe tbody tr th {\n        vertical-align: top;\n    }\n\n    .dataframe thead th {\n        text-align: right;\n    }\n</style>\n<table border=\"1\" class=\"dataframe\">\n  <thead>\n    <tr style=\"text-align: right;\">\n      <th></th>\n      <th>Ammonia, anhydrous</th>\n      <th>Ammonium nitrate (AN)</th>\n      <th>Ammonium sulphate</th>\n      <th>Calcium ammonium nitrate (CAN) and other mixtures with calcium carbonate</th>\n      <th>Diammonium phosphate (DAP)</th>\n      <th>Fertilizers n.e.c.</th>\n      <th>Monoammonium phosphate (MAP)</th>\n      <th>NPK fertilizers</th>\n      <th>Other NK compounds</th>\n      <th>Other NP compounds</th>\n      <th>...</th>\n      <th>PK compounds</th>\n      <th>Phosphate rock</th>\n      <th>Potassium chloride (muriate of potash) (MOP)</th>\n      <th>Potassium nitrate</th>\n      <th>Potassium sulphate (sulphate of potash) (SOP)</th>\n      <th>Sodium nitrate</th>\n      <th>Superphosphates above 35%</th>\n      <th>Superphosphates, other</th>\n      <th>Urea</th>\n      <th>Urea and ammonium nitrate solutions (UAN)</th>\n    </tr>\n  </thead>\n  <tbody>\n    <tr>\n      <th>Afghanistan</th>\n      <td>8.56</td>\n      <td>3244.57</td>\n      <td>28.34</td>\n      <td>20.03</td>\n      <td>67393.32</td>\n      <td>42464.99</td>\n      <td>3444.53</td>\n      <td>105892.68</td>\n      <td>0.0</td>\n      <td>163301.41</td>\n      <td>...</td>\n      <td>0.26</td>\n      <td>14176.45</td>\n      <td>543.43</td>\n      <td>0.07</td>\n      <td>23.90</td>\n      <td>17.85</td>\n      <td>13448.58</td>\n      <td>0.00</td>\n      <td>1616890.03</td>\n      <td>5.25</td>\n    </tr>\n    <tr>\n      <th>Albania</th>\n      <td>1120.54</td>\n      <td>1001720.59</td>\n      <td>1953.95</td>\n      <td>16113.21</td>\n      <td>532561.01</td>\n      <td>18351.73</td>\n      <td>1245.36</td>\n      <td>130420.00</td>\n      <td>0.0</td>\n      <td>31440.98</td>\n      <td>...</td>\n      <td>4094.71</td>\n      <td>6281.35</td>\n      <td>2740.46</td>\n      <td>418.36</td>\n      <td>3681.60</td>\n      <td>6431.68</td>\n      <td>569761.33</td>\n      <td>38753.00</td>\n      <td>967101.33</td>\n      <td>104.80</td>\n    </tr>\n    <tr>\n      <th>Algeria</th>\n      <td>9993103.16</td>\n      <td>2117203.14</td>\n      <td>199644.67</td>\n      <td>167570.44</td>\n      <td>58572.51</td>\n      <td>92574.98</td>\n      <td>257234.52</td>\n      <td>2933324.71</td>\n      <td>0.0</td>\n      <td>146740.93</td>\n      <td>...</td>\n      <td>57253.36</td>\n      <td>26503675.84</td>\n      <td>106605.88</td>\n      <td>71239.21</td>\n      <td>692694.37</td>\n      <td>3745.73</td>\n      <td>869833.80</td>\n      <td>131825.00</td>\n      <td>11192522.82</td>\n      <td>3587527.80</td>\n    </tr>\n    <tr>\n      <th>Angola</th>\n      <td>493.25</td>\n      <td>133245.73</td>\n      <td>270978.84</td>\n      <td>944.01</td>\n      <td>3925.10</td>\n      <td>81258.44</td>\n      <td>1915.74</td>\n      <td>599950.71</td>\n      <td>0.0</td>\n      <td>10150.54</td>\n      <td>...</td>\n      <td>58616.51</td>\n      <td>1446.86</td>\n      <td>97073.91</td>\n      <td>1843.15</td>\n      <td>3097.75</td>\n      <td>633.98</td>\n      <td>6881.57</td>\n      <td>650.44</td>\n      <td>148596.06</td>\n      <td>2173.38</td>\n    </tr>\n    <tr>\n      <th>Antigua and Barbuda</th>\n      <td>44.96</td>\n      <td>369.22</td>\n      <td>25.51</td>\n      <td>0.05</td>\n      <td>82.76</td>\n      <td>1856.54</td>\n      <td>0.02</td>\n      <td>4000.68</td>\n      <td>0.0</td>\n      <td>103.18</td>\n      <td>...</td>\n      <td>329.88</td>\n      <td>5.03</td>\n      <td>0.43</td>\n      <td>1.20</td>\n      <td>25.32</td>\n      <td>0.00</td>\n      <td>0.01</td>\n      <td>1.00</td>\n      <td>42.74</td>\n      <td>0.01</td>\n    </tr>\n  </tbody>\n</table>\n<p>5 rows × 23 columns</p>\n</div>"
     },
     "execution_count": 16,
     "metadata": {},
     "output_type": "execute_result"
    }
   ],
   "source": [
    "#Itertuples\n",
    "\n",
    "for i in range(iterations):\n",
    "    dftuples = pd.DataFrame(index=np.unique(df['Area']), columns=np.unique(df['Item']))\n",
    "\n",
    "    start = time.time()\n",
    "\n",
    "    dftuples = dftuples.fillna(0.0)\n",
    "\n",
    "    for row in df.itertuples(index=False, name='Row'):\n",
    "        if row.Unit=='tonnes':\n",
    "             dftuples.at[row.Area, row.Item] += row.Value\n",
    "\n",
    "    store_time[i] = time.time()-start\n",
    "\n",
    "print('Itertuples took ',np.mean(store_time),' seconds')\n",
    "\n",
    "final_times['Itertuples'] = np.mean(store_time)\n",
    "time_std[4] = np.std(store_time)\n",
    "\n",
    "dftuples.head()"
   ],
   "metadata": {
    "collapsed": false,
    "pycharm": {
     "name": "#%%\n"
    }
   }
  },
  {
   "cell_type": "code",
   "execution_count": null,
   "outputs": [],
   "source": [
    "#Iterrows\n",
    "\n",
    "for i in range(iterations):\n",
    "    dfrows = pd.DataFrame(index=np.unique(df['Area']), columns=np.unique(df['Item']))\n",
    "\n",
    "    start = time.time()\n",
    "\n",
    "    dfrows = dfrows.fillna(0.0)\n",
    "\n",
    "    for index, row in df.iterrows():\n",
    "        if row['Unit']=='tonnes':\n",
    "             dfrows.at[row['Area'], row['Item']] += row['Value']\n",
    "\n",
    "    store_time[i] = time.time()-start\n",
    "\n",
    "print('Iterrows took ',np.mean(store_time),' seconds')\n",
    "\n",
    "final_times['Iterrows'] = np.mean(store_time)\n",
    "time_std[5] = np.std(store_time)\n",
    "\n",
    "dfrows.head()"
   ],
   "metadata": {
    "collapsed": false,
    "pycharm": {
     "name": "#%%\n",
     "is_executing": true
    }
   }
  },
  {
   "cell_type": "code",
   "execution_count": null,
   "outputs": [],
   "source": [
    "dffinal = dfpivot.copy(deep=False)\n",
    "dffinal.head()"
   ],
   "metadata": {
    "collapsed": false,
    "pycharm": {
     "name": "#%%\n",
     "is_executing": true
    }
   }
  },
  {
   "cell_type": "code",
   "execution_count": null,
   "outputs": [],
   "source": [
    "dffinal = dffinal.reindex(dffinal.median().sort_values(ascending=False).index, axis=1)\n",
    "dffinal = dffinal.T\n",
    "dffinal = dffinal.reindex(dffinal.median().sort_values(ascending=False).index, axis=1)\n",
    "\n",
    "dffinal = dffinal.head(10)\n",
    "dffinal = dffinal.iloc[:,:10]\n",
    "dffinal = dffinal.T\n",
    "dffinal.head()"
   ],
   "metadata": {
    "collapsed": false,
    "pycharm": {
     "name": "#%%\n",
     "is_executing": true
    }
   }
  },
  {
   "cell_type": "code",
   "execution_count": null,
   "outputs": [],
   "source": [
    "dffinal = dffinal.apply(lambda x: x/x.sum()*100, axis = 1)\n",
    "dffinal.head()"
   ],
   "metadata": {
    "collapsed": false,
    "pycharm": {
     "name": "#%%\n",
     "is_executing": true
    }
   }
  },
  {
   "cell_type": "code",
   "execution_count": null,
   "outputs": [],
   "source": [
    "import matplotlib.pyplot as plt\n",
    "import matplotlib.image as mpimg\n",
    "import seaborn as sns\n",
    "\n",
    "fig = plt.figure(figsize=(30,30))\n",
    "ax = fig.add_subplot(111)\n",
    "ax.set_title('Fertilizer Import by Country and Type', fontsize=50)\n",
    "dffinal.plot(ax=ax,kind='bar',stacked=True)\n",
    "ax.set_xlabel('Country', fontsize=25)\n",
    "ax.set_xticklabels(labels=dffinal.index.values.tolist(), fontsize=20, rotation=60)\n",
    "ax.set_yticklabels(labels=np.arange(0, 101, 20), fontsize=20)\n",
    "ax.set_ylabel('Percent Import of Fertilizer (%)', fontsize=25)\n",
    "ax.grid(True, linestyle='dashed', linewidth=0.5)\n",
    "\n",
    "plt.subplots_adjust(top=0.95)\n",
    "plt.ylim([0, 100])\n",
    "leg = plt.legend(dffinal.columns.to_list(),loc=(1,0.5), frameon=False, title='Fertilizers', title_fontsize=20, fontsize=16.5, labelspacing=2.5)\n",
    "leg._legend_box.align = 'left'\n",
    "flags = ['USA.png', 'Brazil.png', 'Russia.png', 'France.png', 'China.png', 'Spain.png', 'Mexico.png', 'India.png', 'Netherlands.png', 'Germany.png']\n",
    "\n",
    "placement = 0.15\n",
    "for img in flags:\n",
    "    img = '../data/flags/'+img\n",
    "    flag_img = mpimg.imread(img)\n",
    "    imax = fig.add_axes([placement, 0.025, 0.025, 0.025])\n",
    "    imax.imshow(flag_img)\n",
    "    imax.axis('off')\n",
    "    placement+=0.0675\n",
    "\n",
    "fig.subplots_adjust(right=0.8)\n",
    "fig.savefig('../output/fertilizerbycountrybarplot.png')"
   ],
   "metadata": {
    "collapsed": false,
    "pycharm": {
     "name": "#%%\n",
     "is_executing": true
    }
   }
  },
  {
   "cell_type": "code",
   "execution_count": null,
   "outputs": [],
   "source": [
    "timedf = pd.DataFrame(final_times.items(), columns=['Type','Time'])\n",
    "\n",
    "#TODO: Delete before merging\n",
    "timedf = pd.read_csv('iteritems.csv', header=None)\n",
    "timedf.columns = ['Type', 'Time']"
   ],
   "metadata": {
    "collapsed": false,
    "pycharm": {
     "name": "#%%\n",
     "is_executing": true
    }
   }
  },
  {
   "cell_type": "code",
   "execution_count": null,
   "outputs": [],
   "source": [
    "counter = 0\n",
    "for i in range(timedf.shape[0]):\n",
    "    timedf.at[i, 'Group'] = counter\n",
    "    if i%2!=0:\n",
    "        counter+=1\n"
   ],
   "metadata": {
    "collapsed": false,
    "pycharm": {
     "name": "#%%\n",
     "is_executing": true
    }
   }
  },
  {
   "cell_type": "code",
   "execution_count": null,
   "outputs": [],
   "source": [
    "sns.set(style='whitegrid')\n",
    "\n",
    "fig1 = plt.figure(figsize=(20,20))\n",
    "ax1 = fig1.add_subplot(111)\n",
    "\n",
    "ax1 = sns.catplot(x='Group', y='Time', hue='Group', data=timedf, kind='bar', palette='muted')\n",
    "\n"
   ],
   "metadata": {
    "collapsed": false,
    "pycharm": {
     "name": "#%%\n",
     "is_executing": true
    }
   }
  }
 ],
 "metadata": {
  "kernelspec": {
   "display_name": "Python 3",
   "language": "python",
   "name": "python3"
  },
  "language_info": {
   "codemirror_mode": {
    "name": "ipython",
    "version": 2
   },
   "file_extension": ".py",
   "mimetype": "text/x-python",
   "name": "python",
   "nbconvert_exporter": "python",
   "pygments_lexer": "ipython2",
   "version": "2.7.6"
  }
 },
 "nbformat": 4,
 "nbformat_minor": 0
}